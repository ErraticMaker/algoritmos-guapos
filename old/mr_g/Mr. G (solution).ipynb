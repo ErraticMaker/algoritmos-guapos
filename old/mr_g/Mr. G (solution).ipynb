{
 "cells": [
  {
   "cell_type": "markdown",
   "metadata": {},
   "source": [
    "# Problem\n",
    "\n",
    "[Link](https://uva.onlinejudge.org/index.php?option=com_onlinejudge&Itemid=8&category=37&page=show_problem&problem=1040)\n",
    "\n",
    "Mr. G. works as a tourist guide. His current assignment is to take some tourists from one city to\n",
    "another. Some two-way roads connect the cities. For each pair of neighboring cities there is a bus\n",
    "service that runs only between those two cities and uses the road that directly connects them. Each\n",
    "bus service has a limit on the maximum number of passengers it can carry. Mr. G. has a map showing\n",
    "the cities and the roads connecting them. He also has the information regarding each bus service. He\n",
    "understands that it may not always be possible for him to take all the tourists to the destination city\n",
    "in a single trip. For example, consider the following road map of 7 cities. The edges connecting the\n",
    "cities represent the roads and the number written on each edge indicates the passenger limit of the bus\n",
    "service that runs on that road.\n"
   ]
  },
  {
   "cell_type": "code",
   "execution_count": null,
   "metadata": {
    "collapsed": true
   },
   "outputs": [],
   "source": []
  },
  {
   "cell_type": "markdown",
   "metadata": {},
   "source": [
    "Now, if he wants to take 99 tourists from city 1 to city 7, he will require at least 5 trips and the\n",
    "route he should take is : 1 - 2 - 4 - 7.\n",
    "But, Mr. G. finds it difficult to find the best route all by himself so that he may be able to take all\n",
    "the tourists to the destination city in minimum number of trips. So, he seeks your help."
   ]
  },
  {
   "cell_type": "markdown",
   "metadata": {},
   "source": [
    "# Solution"
   ]
  },
  {
   "cell_type": "code",
   "execution_count": 70,
   "metadata": {
    "collapsed": false
   },
   "outputs": [
    {
     "name": "stdout",
     "output_type": "stream",
     "text": [
      "([1, 2, 4, 7], 25)\n"
     ]
    }
   ],
   "source": [
    "import math\n",
    "\n",
    "def parse(input_):\n",
    "    edges = input_.split('\\n')\n",
    "    edges = [ [ int(y) for y in  x.split(' ') ]  for x in edges[2:-2] ]\n",
    "    target = edges.pop()\n",
    "    return edges, target[0], target[1], target[2]\n",
    "\n",
    "def add_node( graph, origin, dest ):\n",
    "    if graph.get(origin) == None:\n",
    "        graph[origin] = []\n",
    "    graph[origin].append( dest )\n",
    "\n",
    "def make_graph( edges ):\n",
    "    graph = {}\n",
    "    weights = {}\n",
    "    for edge in edges:\n",
    "        add_node( graph, edge[0], edge[1] )\n",
    "        add_node( graph, edge[1], edge[0] )\n",
    "        weights[edge[0], edge[1]] = edge[2]\n",
    "        weights[edge[1], edge[0]] = edge[2]\n",
    "    return graph, weights\n",
    "\n",
    "def find_path(graph, weights, paths, visited, min_, destination):\n",
    "    if visited[-1] == destination:\n",
    "        paths.append((visited, min_ ))\n",
    "        return\n",
    "    for nxt in graph[visited[-1]]:\n",
    "        if nxt not in visited:\n",
    "            visited2 = visited.copy()\n",
    "            visited2.append( nxt )\n",
    "            find_path(graph, weights, paths, visited2, min(min_, weights[(visited[-1], nxt)]) , destination)\n",
    "\n",
    "                      \n",
    "def solution(input_):\n",
    "    edges, origin, destination, passengers = parse(input_)\n",
    "    G, W = make_graph( edges )\n",
    "    paths = []\n",
    "    find_path(G, W, paths, [1], math.inf, 7 )\n",
    "    sol = paths[0]\n",
    "    for path, w in paths:\n",
    "        if w > sol[1]:\n",
    "            sol = (path, w)\n",
    "    print(sol)\n",
    "    \n",
    "sample = \"\"\"\n",
    "7 10\n",
    "1 2 30\n",
    "1 3 15\n",
    "1 4 10\n",
    "2 4 25\n",
    "2 5 60\n",
    "3 4 40\n",
    "3 6 20\n",
    "4 7 35\n",
    "5 7 20\n",
    "6 7 30\n",
    "1 7 99\n",
    "0 0\n",
    "\"\"\"\n",
    "solution( sample )\n"
   ]
  }
 ],
 "metadata": {
  "kernelspec": {
   "display_name": "Python 3",
   "language": "python",
   "name": "python3"
  },
  "language_info": {
   "codemirror_mode": {
    "name": "ipython",
    "version": 3
   },
   "file_extension": ".py",
   "mimetype": "text/x-python",
   "name": "python",
   "nbconvert_exporter": "python",
   "pygments_lexer": "ipython3",
   "version": "3.5.1"
  }
 },
 "nbformat": 4,
 "nbformat_minor": 0
}
